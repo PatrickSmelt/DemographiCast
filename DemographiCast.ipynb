{
 "cells": [
  {
   "cell_type": "code",
   "execution_count": 1,
   "id": "a3653086",
   "metadata": {},
   "outputs": [],
   "source": [
    "import pandas as pd\n",
    "\n",
    "election_2016 = pd.read_csv(\"C:/Users/patty/Documents/INFSCI 510/510_Project/2016_Election.csv\")\n",
    "election_2020 = pd.read_csv(\"C:/Users/patty/Documents/INFSCI 510/510_Project/2020_Election.csv\")\n",
    "demographics = pd.read_csv(\"C:/Users/patty/Documents/INFSCI 510/510_Project/Demographics.csv\")\n",
    "gdp = pd.read_csv(\"C:/Users/patty/Documents/INFSCI 510/510_Project/GDP 2016-2023.csv\")\n",
    "inflation = pd.read_csv(\"C:/Users/patty/Documents/INFSCI 510/510_Project/Inflation 2019-2024.csv\")\n",
    "unemployment = pd.read_csv(\"C:/Users/patty/Documents/INFSCI 510/510_Project/Unemployment Rate 2016-2024.csv\")"
   ]
  },
  {
   "cell_type": "code",
   "execution_count": 2,
   "id": "536a1dda",
   "metadata": {},
   "outputs": [
    {
     "name": "stdout",
     "output_type": "stream",
     "text": [
      "Election 2016 - First 5 rows:\n",
      "     state   county        candidate     party  votes\n",
      "0  Alabama  Autauga   Bernie Sanders  Democrat    544\n",
      "1  Alabama  Autauga  Hillary Clinton  Democrat   2387\n",
      "2  Alabama  Baldwin   Bernie Sanders  Democrat   2694\n",
      "3  Alabama  Baldwin  Hillary Clinton  Democrat   5290\n",
      "4  Alabama  Barbour   Bernie Sanders  Democrat    222\n",
      "\n",
      "Election 2020 - First 5 rows:\n",
      "      state             county      candidate party   votes\n",
      "0  Delaware        Kent County      Joe Biden   DEM   44552\n",
      "1  Delaware        Kent County   Donald Trump   REP   41009\n",
      "2  Delaware        Kent County   Jo Jorgensen   LIB    1044\n",
      "3  Delaware        Kent County  Howie Hawkins   GRN     420\n",
      "4  Delaware  New Castle County      Joe Biden   DEM  195034\n",
      "\n",
      "Demographics - First 5 rows:\n",
      "                            Label (Grouping) United States!!Estimate  \\\n",
      "0                                SEX AND AGE                     NaN   \n",
      "1                           Total population             333,287,562   \n",
      "2                                       Male             165,228,214   \n",
      "3                                     Female             168,059,348   \n",
      "4          Sex ratio (males per 100 females)                    98.3   \n",
      "\n",
      "  United States!!Margin of Error United States!!Percent  \\\n",
      "0                            NaN                    NaN   \n",
      "1                          *****            333,287,562   \n",
      "2                        ±33,974                 49.60%   \n",
      "3                        ±33,976                 50.40%   \n",
      "4                           ±0.1                    (X)   \n",
      "\n",
      "  United States!!Percent Margin of Error  \n",
      "0                                    NaN  \n",
      "1                                    (X)  \n",
      "2                                   ±0.1  \n",
      "3                                   ±0.1  \n",
      "4                                    (X)  \n",
      "\n",
      "GDP - First 5 rows:\n",
      "        DATE  GDP (In Billions)\n",
      "0   1/1/2016          18525.933\n",
      "1   4/1/2016          18711.702\n",
      "2   7/1/2016          18892.639\n",
      "3  10/1/2016          19089.379\n",
      "4   1/1/2017          19280.084\n",
      "\n",
      "Inflation - First 5 rows:\n",
      "       DATE Inflation\n",
      "0  4/1/2019       1.9\n",
      "1  4/2/2019       1.9\n",
      "2  4/3/2019      1.91\n",
      "3  4/4/2019       1.9\n",
      "4  4/5/2019       1.9\n",
      "\n",
      "Unemployment - First 5 rows:\n",
      "       DATE  Unemployment Rate\n",
      "0  1/1/2016                4.8\n",
      "1  2/1/2016                4.9\n",
      "2  3/1/2016                5.0\n",
      "3  4/1/2016                5.1\n",
      "4  5/1/2016                4.8\n",
      "\n"
     ]
    }
   ],
   "source": [
    "#Display datasets\n",
    "\n",
    "datasets = [election_2016, election_2020, demographics, gdp, inflation, unemployment]\n",
    "dataset_names = [\"Election 2016\", \"Election 2020\", \"Demographics\", \"GDP\", \"Inflation\", \"Unemployment\"]\n",
    "\n",
    "for name, dataset in zip(dataset_names, datasets):\n",
    "    print(f\"{name} - First 5 rows:\\n{dataset.head()}\\n\")"
   ]
  },
  {
   "cell_type": "markdown",
   "id": "e28a4036",
   "metadata": {},
   "source": [
    "# Merged & Cleaned"
   ]
  },
  {
   "cell_type": "code",
   "execution_count": 4,
   "id": "0db71dcd",
   "metadata": {},
   "outputs": [
    {
     "name": "stdout",
     "output_type": "stream",
     "text": [
      "     state   county        candidate     party  votes  winner\n",
      "0  alabama  autauga   Bernie Sanders  Democrat    544       0\n",
      "1  alabama  autauga  Hillary Clinton  Democrat   2387       0\n",
      "2  alabama  baldwin   Bernie Sanders  Democrat   2694       0\n",
      "3  alabama  baldwin  Hillary Clinton  Democrat   5290       0\n",
      "4  alabama  barbour   Bernie Sanders  Democrat    222       0\n"
     ]
    }
   ],
   "source": [
    "# Group by state, county, and candidate to sum votes, but also include 'party' in the aggregation\n",
    "winners = elections_merged.groupby(['state', 'county', 'party']).agg({'votes': 'sum'}).reset_index()\n",
    "# Sort to get the party with the highest votes in each county\n",
    "winners = winners.sort_values(by=['state', 'county', 'votes'], ascending=False).drop_duplicates(subset=['state', 'county'])\n",
    "# Create a binary variable 'winner' where 1 indicates Democrat\n",
    "winners['winner'] = (winners['party'] == 'democrat').astype(int)\n",
    "\n",
    "# Merge the winners back to the main dataframe\n",
    "elections_merged = pd.merge(elections_merged, winners[['state', 'county', 'winner']], on=['state', 'county'], how='left')\n",
    "\n",
    "print(elections_merged.head())\n"
   ]
  },
  {
   "cell_type": "markdown",
   "id": "080d3959",
   "metadata": {},
   "source": [
    "# Feature Engineering"
   ]
  },
  {
   "cell_type": "code",
   "execution_count": 11,
   "id": "f1d0d5d1",
   "metadata": {},
   "outputs": [
    {
     "name": "stdout",
     "output_type": "stream",
     "text": [
      "            state       county party    votes  winner\n",
      "2015   california  los angeles   dem  3028885       0\n",
      "6949     illinois         cook   dem  1725973       0\n",
      "843       arizona     maricopa   dem  1040774       0\n",
      "2161   california    san diego   dem   964650       0\n",
      "29355       texas       harris   dem   918193       0\n",
      "     state   county        candidate     party  votes  winner\n",
      "0  alabama  autauga   Bernie Sanders  democrat    544       0\n",
      "1  alabama  autauga  Hillary Clinton  democrat   2387       0\n",
      "2  alabama  baldwin   Bernie Sanders  democrat   2694       0\n",
      "3  alabama  baldwin  Hillary Clinton  democrat   5290       0\n",
      "4  alabama  barbour   Bernie Sanders  democrat    222       0\n"
     ]
    }
   ],
   "source": [
    "import pandas as pd\n",
    "\n",
    "# Assuming the merged elections data is already loaded as `elections_merged`\n",
    "# and it includes data from both 2016 and 2020.\n",
    "\n",
    "# Load data (demonstrative; adjust paths as necessary)\n",
    "election_2016 = pd.read_csv(\"C:/Users/patty/Documents/INFSCI 510/510_Project/2016_Election.csv\")\n",
    "election_2020 = pd.read_csv(\"C:/Users/patty/Documents/INFSCI 510/510_Project/2020_Election.csv\")\n",
    "\n",
    "# Combine the datasets for uniform processing\n",
    "elections_merged = pd.concat([election_2016, election_2020])\n",
    "\n",
    "# Normalize text fields to ensure consistency\n",
    "elections_merged['party'] = elections_merged['party'].str.lower()\n",
    "elections_merged['state'] = elections_merged['state'].str.lower()\n",
    "elections_merged['county'] = elections_merged['county'].str.lower().str.replace(' county', '')\n",
    "\n",
    "# Group by state, county, and sum votes for each party\n",
    "winning_party = elections_merged.groupby(['state', 'county', 'party'])['votes'].sum().reset_index()\n",
    "\n",
    "# Determine the party with the maximum votes in each county\n",
    "winning_party = winning_party.sort_values('votes', ascending=False).drop_duplicates(['state', 'county'])\n",
    "\n",
    "# Create a binary target variable: 1 if Democrats won, 0 otherwise\n",
    "winning_party['winner'] = (winning_party['party'] == 'democrat').astype(int)\n",
    "\n",
    "# Merge this information back into your main DataFrame if needed for further analysis\n",
    "# Assuming `elections_merged` needs this 'winner' column\n",
    "elections_merged = pd.merge(elections_merged, winning_party[['state', 'county', 'winner']], on=['state', 'county'], how='left')\n",
    "\n",
    "print(winning_party[['state', 'county', 'party', 'votes', 'winner']].head())\n",
    "print(elections_merged.head())\n"
   ]
  },
  {
   "cell_type": "code",
   "execution_count": 12,
   "id": "5e454909",
   "metadata": {},
   "outputs": [
    {
     "name": "stdout",
     "output_type": "stream",
     "text": [
      "         state          county       party  votes  winner\n",
      "37769  wyoming          weston         rep   3107       0\n",
      "37763  wyoming        washakie         rep   3245       0\n",
      "37758  wyoming   uinta-lincoln  republican     53       0\n",
      "37756  wyoming           uinta         rep   7496       0\n",
      "37751  wyoming  teton-sublette  republican     40       0\n",
      "Count of Democrat wins: 114\n"
     ]
    }
   ],
   "source": [
    "# Assuming the dataset 'winning_party' is already sorted and deduplicated as shown in previous steps\n",
    "\n",
    "# First, let's verify the logic by checking the top entries per county to ensure 'winner' flags are correct\n",
    "top_entries_per_county = winning_party.sort_values(by=['state', 'county', 'votes'], ascending=False) \\\n",
    "                                       .drop_duplicates(['state', 'county'])\n",
    "\n",
    "# Print top entries to see the most voted party in each county\n",
    "print(top_entries_per_county.head())\n",
    "\n",
    "# Now, check if the winner determination is correct\n",
    "# Assuming that 'party' column values are correctly labeled as 'democrat' for Democrats\n",
    "# Make sure there's no mismatch, such as 'dem' or 'democratic' that should be standardized to 'democrat'\n",
    "winning_party['winner'] = (winning_party['party'] == 'democrat').astype(int)\n",
    "\n",
    "# Check if any county has Democrats as winners:\n",
    "print(\"Count of Democrat wins:\", winning_party['winner'].sum())\n",
    "\n",
    "# If the sum is 0, it means no counties are marked as won by Democrats even if they should be.\n"
   ]
  },
  {
   "cell_type": "code",
   "execution_count": 13,
   "id": "b6f5fc83",
   "metadata": {},
   "outputs": [
    {
     "name": "stdout",
     "output_type": "stream",
     "text": [
      "Entries where Democrats won:\n",
      "           state            county     party   votes  winner\n",
      "6901    illinois           chicago  democrat  678179       1\n",
      "23284   new york          brooklyn  democrat  290563       1\n",
      "23476   new york         manhattan  democrat  267723       1\n",
      "10982  louisiana           orleans  democrat   53687       1\n",
      "10754  louisiana  east baton rouge  democrat   40930       1\n"
     ]
    }
   ],
   "source": [
    "# Filtering the dataframe to show only where Democrats are the winning party\n",
    "democrat_wins = winning_party[winning_party['winner'] == 1]\n",
    "\n",
    "# Print entries where Democrats won\n",
    "print(\"Entries where Democrats won:\")\n",
    "print(democrat_wins.head())\n"
   ]
  },
  {
   "cell_type": "code",
   "execution_count": 14,
   "id": "4c856d0e",
   "metadata": {},
   "outputs": [],
   "source": [
    "from sklearn.model_selection import train_test_split\n",
    "from sklearn.preprocessing import StandardScaler\n",
    "\n",
    "# Assuming 'winning_party' has the correct 'winner' flags and the features you want to include\n",
    "# Extracting feature columns: assuming 'votes' and other derived features are included\n",
    "X = winning_party.drop(['state', 'county', 'party', 'winner'], axis=1)\n",
    "y = winning_party['winner']\n",
    "\n",
    "# Split the data into training and testing sets\n",
    "X_train, X_test, y_train, y_test = train_test_split(X, y, test_size=0.20, random_state=42, stratify=y)\n",
    "\n",
    "# Standardize the features (if your features require standardization)\n",
    "scaler = StandardScaler()\n",
    "X_train = scaler.fit_transform(X_train)\n",
    "X_test = scaler.transform(X_test)\n"
   ]
  },
  {
   "cell_type": "markdown",
   "id": "e181bf3e",
   "metadata": {},
   "source": [
    "# Train ML model"
   ]
  },
  {
   "cell_type": "code",
   "execution_count": 15,
   "id": "b38476fd",
   "metadata": {},
   "outputs": [],
   "source": [
    "from sklearn.ensemble import RandomForestClassifier\n",
    "from sklearn.metrics import accuracy_score, confusion_matrix, roc_auc_score\n",
    "\n",
    "# Initialize the RandomForestClassifier\n",
    "model = RandomForestClassifier(n_estimators=100, random_state=42)\n",
    "\n",
    "# Train the model\n",
    "model.fit(X_train, y_train)\n",
    "\n",
    "# Predict on the test set\n",
    "y_pred = model.predict(X_test)\n",
    "y_proba = model.predict_proba(X_test)[:, 1]  # Probabilities for ROC-AUC\n"
   ]
  },
  {
   "cell_type": "markdown",
   "id": "1a048477",
   "metadata": {},
   "source": [
    "# Evaluate Model\n"
   ]
  },
  {
   "cell_type": "code",
   "execution_count": 16,
   "id": "f0c3081a",
   "metadata": {},
   "outputs": [
    {
     "name": "stdout",
     "output_type": "stream",
     "text": [
      "Accuracy: 0.976313079299691\n",
      "ROC-AUC: 0.67473858007705\n",
      "Confusion Matrix:\n",
      "[[940   8]\n",
      " [ 15   8]]\n"
     ]
    }
   ],
   "source": [
    "# Calculate accuracy, ROC-AUC, and confusion matrix\n",
    "accuracy = accuracy_score(y_test, y_pred)\n",
    "roc_auc = roc_auc_score(y_test, y_proba)\n",
    "conf_matrix = confusion_matrix(y_test, y_pred)\n",
    "\n",
    "print(f\"Accuracy: {accuracy}\")\n",
    "print(f\"ROC-AUC: {roc_auc}\")\n",
    "print(f\"Confusion Matrix:\\n{conf_matrix}\")\n"
   ]
  },
  {
   "cell_type": "code",
   "execution_count": 17,
   "id": "df061d5d",
   "metadata": {},
   "outputs": [
    {
     "name": "stdout",
     "output_type": "stream",
     "text": [
      "Adjusted Accuracy: 0.9711637487126673\n",
      "Adjusted ROC-AUC: 0.6746927169326729\n",
      "Adjusted Confusion Matrix:\n",
      "[[935  13]\n",
      " [ 15   8]]\n"
     ]
    }
   ],
   "source": [
    "# Adjusting class weights for imbalance\n",
    "model = RandomForestClassifier(n_estimators=100, random_state=42, class_weight='balanced')\n",
    "\n",
    "# Retrain and re-evaluate the model\n",
    "model.fit(X_train, y_train)\n",
    "y_pred = model.predict(X_test)\n",
    "y_proba = model.predict_proba(X_test)[:, 1]\n",
    "\n",
    "accuracy = accuracy_score(y_test, y_pred)\n",
    "roc_auc = roc_auc_score(y_test, y_proba)\n",
    "conf_matrix = confusion_matrix(y_test, y_pred)\n",
    "\n",
    "print(f\"Adjusted Accuracy: {accuracy}\")\n",
    "print(f\"Adjusted ROC-AUC: {roc_auc}\")\n",
    "print(f\"Adjusted Confusion Matrix:\\n{conf_matrix}\")\n"
   ]
  },
  {
   "cell_type": "markdown",
   "id": "748f82ae",
   "metadata": {},
   "source": [
    "# Model Evaluation\n",
    "\n",
    "Based on historical voting data from 2016 and 2020, our predictive model utilizes shifts in vote shares to forecast election outcomes. While the model shows promising accuracy in back-testing, predicting the 2024 election accurately hinges on several factors: continued voting patterns, demographic shifts, and political climate changes leading up to the election. As such, while our predictions provide a data-driven forecast based on past trends, they should be interpreted with caution, considering potential future variables that could influence voter behavior."
   ]
  }
 ],
 "metadata": {
  "kernelspec": {
   "display_name": "Python 3 (ipykernel)",
   "language": "python",
   "name": "python3"
  },
  "language_info": {
   "codemirror_mode": {
    "name": "ipython",
    "version": 3
   },
   "file_extension": ".py",
   "mimetype": "text/x-python",
   "name": "python",
   "nbconvert_exporter": "python",
   "pygments_lexer": "ipython3",
   "version": "3.11.5"
  }
 },
 "nbformat": 4,
 "nbformat_minor": 5
}
